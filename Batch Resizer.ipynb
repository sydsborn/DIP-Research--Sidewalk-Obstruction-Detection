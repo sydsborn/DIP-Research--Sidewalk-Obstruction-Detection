{
 "cells": [
  {
   "cell_type": "code",
   "execution_count": 1,
   "id": "cc2c21bb",
   "metadata": {},
   "outputs": [],
   "source": [
    "#imports\n",
    "from pathlib import Path\n",
    "from PIL import Image\n"
   ]
  },
  {
   "cell_type": "code",
   "execution_count": 2,
   "id": "85cf3e84",
   "metadata": {},
   "outputs": [],
   "source": [
    "#directory strings\n",
    "image_directory = 'source'\n",
    "result_directory = 'result'"
   ]
  },
  {
   "cell_type": "code",
   "execution_count": 9,
   "id": "3e492e7a",
   "metadata": {
    "scrolled": false
   },
   "outputs": [],
   "source": [
    "#convert PNGs to JPGs\n",
    "image_paths = Path(image_directory).glob('*.png')\n",
    "image_paths_list = list(image_paths)\n",
    "\n",
    "for image_path in image_paths_list:\n",
    "    image = Image.open(image_path)\n",
    "    image1 = image.convert('RGB')\n",
    "    \n",
    "    #change extension to JPG\n",
    "    image_name = image_path.name\n",
    "    image_name1 = image_name.replace(\"png\",\"jpg\")\n",
    "    output_path = Path(image_directory).joinpath(image_name1)\n",
    "    image2 = image1.save(output_path, compression='group4')"
   ]
  },
  {
   "cell_type": "code",
   "execution_count": 10,
   "id": "140ebc67",
   "metadata": {},
   "outputs": [],
   "source": [
    "#resize JPEGs\n",
    "image_paths = Path(image_directory).glob('*.jpg')\n",
    "image_paths_list = list(image_paths)\n",
    "\n",
    "for image_path in image_paths_list:\n",
    "    image = Image.open(image_path)\n",
    "    im1 = image.resize((852,480))\n",
    "    image_name = image_path.name\n",
    "    output_path = Path(result_directory).joinpath(image_name)\n",
    "    im2 = im1.save(output_path, compression='group4')"
   ]
  },
  {
   "cell_type": "code",
   "execution_count": null,
   "id": "5775ea15",
   "metadata": {},
   "outputs": [],
   "source": []
  }
 ],
 "metadata": {
  "kernelspec": {
   "display_name": "Python 3",
   "language": "python",
   "name": "python3"
  },
  "language_info": {
   "codemirror_mode": {
    "name": "ipython",
    "version": 3
   },
   "file_extension": ".py",
   "mimetype": "text/x-python",
   "name": "python",
   "nbconvert_exporter": "python",
   "pygments_lexer": "ipython3",
   "version": "3.6.13"
  }
 },
 "nbformat": 4,
 "nbformat_minor": 5
}
